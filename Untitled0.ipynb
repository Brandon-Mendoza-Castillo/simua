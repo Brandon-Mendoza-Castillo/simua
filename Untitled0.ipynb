{
  "nbformat": 4,
  "nbformat_minor": 0,
  "metadata": {
    "colab": {
      "provenance": []
    },
    "kernelspec": {
      "name": "python3",
      "display_name": "Python 3"
    },
    "language_info": {
      "name": "python"
    }
  },
  "cells": [
    {
      "cell_type": "markdown",
      "source": [
        "#introduccion a numpy"
      ],
      "metadata": {
        "id": "bLRDWvRsouw9"
      }
    },
    {
      "cell_type": "code",
      "source": [
        "[Numpy](https://numpy.org/doc/stable/)"
      ],
      "metadata": {
        "colab": {
          "base_uri": "https://localhost:8080/",
          "height": 106
        },
        "id": "oR4Xrhlho-73",
        "outputId": "b5c1dbf4-8328-46e2-b413-ffda79505cee"
      },
      "execution_count": null,
      "outputs": [
        {
          "output_type": "error",
          "ename": "SyntaxError",
          "evalue": "invalid syntax (<ipython-input-1-cf1c1c3618a7>, line 1)",
          "traceback": [
            "\u001b[0;36m  File \u001b[0;32m\"<ipython-input-1-cf1c1c3618a7>\"\u001b[0;36m, line \u001b[0;32m1\u001b[0m\n\u001b[0;31m    [Numpy](https://numpy.org/doc/stable/)\u001b[0m\n\u001b[0m                 ^\u001b[0m\n\u001b[0;31mSyntaxError\u001b[0m\u001b[0;31m:\u001b[0m invalid syntax\n"
          ]
        }
      ]
    },
    {
      "cell_type": "markdown",
      "source": [
        "es una libreria para la computacion con Python.\n",
        "\n",
        "*   Proporciona arrays n dimencionales\n",
        "*   implementa funciones matematicas sofisticadas.\n",
        "\n",
        "*   Proporciona herramientas para integrar C/C++ y Fortran.\n",
        "*   Proporciona mecanismos para facilitar la realizacion de las tareas relacionadas con algebra lineal o numeros aleatorios.\n",
        "\n",
        "\n",
        "*   Proporciona arrays n dimencionales\n",
        "\n",
        "*   Proporciona arrays n dimencionales\n",
        "*   implementa funciones matematicas sofisticadas.\n",
        "\n",
        "\n",
        "*   Proporciona herramientas para integrar C/C++ y Fortran.\n",
        "\n",
        "*   Proporciona mecanismos para facilitar la realizacion de las tareas relacionadas con algebra lineal o numeros aleatorios.\n",
        "\n",
        "\n",
        "\n"
      ],
      "metadata": {
        "id": "FvnITn7ZpMw_"
      }
    },
    {
      "cell_type": "code",
      "source": [
        "\n",
        "\n",
        "\n",
        "#imports\n",
        "import numpy as np\n",
        "## Arrays\n",
        "Un **array** es una estructura de datos que consiste en una coleccion de elementos (valores) o variables, cada uno identoficado por almenos un indi\n",
        "o clave.Un array de amacena de modo que la posicion de cada elemento se almacena de modo que la posicion de cada elemento se pueda calcular a partir de su tupla de indice mediante una formula matematica.\n",
        "El tipo mas simple de array es un array lineal, tambien llamado array unidimencional\n",
        "\n",
        "#En numpy\n",
        "*cada dimencion se denomina **axis**\n",
        "*el numero de dimenciones se denomina **rank**\n",
        "*la lista de dimenciones con su correspondiente longitud se denomina **shape**\n",
        "*el numero total de elementos (multiplicacion de la lomgitud de las dimenciones) a esto se denomina **size**."
      ],
      "metadata": {
        "colab": {
          "base_uri": "https://localhost:8080/",
          "height": 106
        },
        "id": "FVajUs9AbnYP",
        "outputId": "d6a1596f-cb94-4714-813a-0854bbf44eb1"
      },
      "execution_count": null,
      "outputs": [
        {
          "output_type": "error",
          "ename": "SyntaxError",
          "evalue": "invalid syntax (<ipython-input-10-5dd47609f614>, line 2)",
          "traceback": [
            "\u001b[0;36m  File \u001b[0;32m\"<ipython-input-10-5dd47609f614>\"\u001b[0;36m, line \u001b[0;32m2\u001b[0m\n\u001b[0;31m    [Numpy](https://numpy.org/doc/stable/) es una libreria para la computacion con Python.\u001b[0m\n\u001b[0m                 ^\u001b[0m\n\u001b[0;31mSyntaxError\u001b[0m\u001b[0;31m:\u001b[0m invalid syntax\n"
          ]
        }
      ]
    },
    {
      "cell_type": "markdown",
      "source": [
        "  \n",
        "*   Proporciona arrays n dimencionales\n",
        "*   implementa funciones matematicas sofisticadas.\n",
        "*   Proporciona herramientas para integrar C/C++ y Fortran.\n",
        "*   Proporciona mecanismos para facilitar la realizacion de las tareas relacionadas con algebra lineal o numeros aleatorios.\n",
        "\n"
      ],
      "metadata": {
        "id": "4vDkutDrj9SW"
      }
    },
    {
      "cell_type": "code",
      "source": [
        "#imports\n",
        "import numpy as np\n",
        "## Array cuyos valores son todos 0.\n",
        "a = np.zeros((2,4))\n",
        "print(a)\n"
      ],
      "metadata": {
        "colab": {
          "base_uri": "https://localhost:8080/"
        },
        "id": "Jzw_oKk1huMM",
        "outputId": "104e8628-59ed-4bef-e6c6-eafb147bbbf0"
      },
      "execution_count": null,
      "outputs": [
        {
          "output_type": "stream",
          "name": "stdout",
          "text": [
            "[[0. 0. 0. 0.]\n",
            " [0. 0. 0. 0.]]\n"
          ]
        }
      ]
    },
    {
      "cell_type": "markdown",
      "source": [
        "a es un array\n",
        "\n",
        "*   Con dos **axis**, el primero de longitud 2 y el segundo de longitud 4.\n",
        "*   Con un **rank** igual a 2\n",
        "*   Con un **shape** igual a (2,4)\n",
        "*   con un **size** igual a 8\n",
        "\n",
        "\n"
      ],
      "metadata": {
        "id": "4FNtKk1OkNTk"
      }
    },
    {
      "cell_type": "markdown",
      "source": [],
      "metadata": {
        "id": "FymEe3aJlU51"
      }
    },
    {
      "cell_type": "code",
      "source": [
        "a.shape"
      ],
      "metadata": {
        "colab": {
          "base_uri": "https://localhost:8080/"
        },
        "id": "xXiiJu2KlVY1",
        "outputId": "b7715e8e-440d-46ec-dc26-748ab2043256"
      },
      "execution_count": null,
      "outputs": [
        {
          "output_type": "execute_result",
          "data": {
            "text/plain": [
              "(2, 4)"
            ]
          },
          "metadata": {},
          "execution_count": 22
        }
      ]
    },
    {
      "cell_type": "code",
      "source": [
        "a.ndim"
      ],
      "metadata": {
        "colab": {
          "base_uri": "https://localhost:8080/"
        },
        "id": "_0PFxbhilZdP",
        "outputId": "3042a3f7-9e57-4759-8fb1-3adca8ae30b9"
      },
      "execution_count": null,
      "outputs": [
        {
          "output_type": "execute_result",
          "data": {
            "text/plain": [
              "2"
            ]
          },
          "metadata": {},
          "execution_count": 23
        }
      ]
    },
    {
      "cell_type": "code",
      "source": [
        "a.size\n"
      ],
      "metadata": {
        "colab": {
          "base_uri": "https://localhost:8080/"
        },
        "id": "Bd1xJxJ2lez7",
        "outputId": "7cd96497-a497-4837-853f-2c81ff78949a"
      },
      "execution_count": null,
      "outputs": [
        {
          "output_type": "execute_result",
          "data": {
            "text/plain": [
              "8"
            ]
          },
          "metadata": {},
          "execution_count": 24
        }
      ]
    },
    {
      "cell_type": "markdown",
      "source": [
        "# Array cuyos valores son todos 0."
      ],
      "metadata": {
        "id": "Oh2RxjSYlh_q"
      }
    },
    {
      "cell_type": "markdown",
      "source": [],
      "metadata": {
        "id": "d66l2qY6j2BV"
      }
    },
    {
      "cell_type": "markdown",
      "source": [],
      "metadata": {
        "id": "QFAMbkbte0Ek"
      }
    },
    {
      "cell_type": "markdown",
      "source": [],
      "metadata": {
        "id": "pAv_1pWeefhr"
      }
    },
    {
      "cell_type": "code",
      "source": [
        "np.zeros((2,3,4))"
      ],
      "metadata": {
        "colab": {
          "base_uri": "https://localhost:8080/"
        },
        "id": "9CJMMbdylurR",
        "outputId": "23857447-fe8a-4f94-ea16-15ac98926351"
      },
      "execution_count": null,
      "outputs": [
        {
          "output_type": "execute_result",
          "data": {
            "text/plain": [
              "array([[[0., 0., 0., 0.],\n",
              "        [0., 0., 0., 0.],\n",
              "        [0., 0., 0., 0.]],\n",
              "\n",
              "       [[0., 0., 0., 0.],\n",
              "        [0., 0., 0., 0.],\n",
              "        [0., 0., 0., 0.]]])"
            ]
          },
          "metadata": {},
          "execution_count": 26
        }
      ]
    },
    {
      "cell_type": "markdown",
      "source": [
        "# Array cuyos valores son todos 1.\n"
      ],
      "metadata": {
        "id": "sSrQRTu4miE-"
      }
    },
    {
      "cell_type": "code",
      "source": [
        "np.ones((2,3,4))"
      ],
      "metadata": {
        "id": "QEZP4dHcoPfx"
      },
      "execution_count": null,
      "outputs": []
    },
    {
      "cell_type": "markdown",
      "source": [
        "# Array cuyos valores son todos el valor indicado como segundo par metro de la funcion"
      ],
      "metadata": {
        "id": "vKvi55tfnKtB"
      }
    },
    {
      "cell_type": "code",
      "source": [
        "np.full((2,3,4),8)"
      ],
      "metadata": {
        "id": "w6qmegFtnYu7"
      },
      "execution_count": null,
      "outputs": []
    },
    {
      "cell_type": "markdown",
      "source": [
        "# El resultado de np.empty no es predecible\n",
        "# Se inicializa con los valores que haya en memoria en ese momento."
      ],
      "metadata": {
        "id": "-icdFKHenFAP"
      }
    },
    {
      "cell_type": "code",
      "source": [
        "import numpy as np\n",
        "np.empty((2,3,9))"
      ],
      "metadata": {
        "colab": {
          "base_uri": "https://localhost:8080/"
        },
        "id": "JOLnBlSOnYCx",
        "outputId": "757dc16c-a4d7-4879-beb6-828519e3df59"
      },
      "execution_count": null,
      "outputs": [
        {
          "output_type": "execute_result",
          "data": {
            "text/plain": [
              "array([[[4.91250487e-310, 0.00000000e+000, 0.00000000e+000,\n",
              "         0.00000000e+000, 0.00000000e+000, 0.00000000e+000,\n",
              "         0.00000000e+000, 0.00000000e+000, 0.00000000e+000],\n",
              "        [0.00000000e+000, 0.00000000e+000, 0.00000000e+000,\n",
              "         0.00000000e+000, 0.00000000e+000, 0.00000000e+000,\n",
              "         0.00000000e+000, 0.00000000e+000, 0.00000000e+000],\n",
              "        [0.00000000e+000, 0.00000000e+000, 0.00000000e+000,\n",
              "         0.00000000e+000, 0.00000000e+000, 0.00000000e+000,\n",
              "         0.00000000e+000, 0.00000000e+000, 0.00000000e+000]],\n",
              "\n",
              "       [[0.00000000e+000, 0.00000000e+000, 0.00000000e+000,\n",
              "         0.00000000e+000, 0.00000000e+000, 0.00000000e+000,\n",
              "         0.00000000e+000, 0.00000000e+000, 0.00000000e+000],\n",
              "        [0.00000000e+000, 0.00000000e+000, 0.00000000e+000,\n",
              "         0.00000000e+000, 0.00000000e+000, 0.00000000e+000,\n",
              "         0.00000000e+000, 0.00000000e+000, 0.00000000e+000],\n",
              "        [4.00193173e-322, 4.91194342e-310, 6.67562475e-310,\n",
              "         6.67561738e-310, 6.67561738e-310, 6.67561738e-310,\n",
              "         6.67561738e-310, 6.67561738e-310, 6.67561738e-310]]])"
            ]
          },
          "metadata": {},
          "execution_count": 2
        }
      ]
    },
    {
      "cell_type": "markdown",
      "source": [
        "# Inicializar el array utilizando un array de python.\n"
      ],
      "metadata": {
        "id": "Z2r2ASaOnqu-"
      }
    },
    {
      "cell_type": "code",
      "source": [
        "b = np.array([[1,2,3],[4,5,6]])\n",
        "print(b)"
      ],
      "metadata": {
        "colab": {
          "base_uri": "https://localhost:8080/"
        },
        "id": "WXg3khbjn5ow",
        "outputId": "00299e85-2570-48d0-f0e2-4557cdb56178"
      },
      "execution_count": null,
      "outputs": [
        {
          "output_type": "stream",
          "name": "stdout",
          "text": [
            "[[1 2 3]\n",
            " [4 5 6]]\n"
          ]
        }
      ]
    },
    {
      "cell_type": "code",
      "source": [
        "b.shape\n"
      ],
      "metadata": {
        "colab": {
          "base_uri": "https://localhost:8080/"
        },
        "id": "xzWX8LnwoCiR",
        "outputId": "c81f854a-d9ee-4e50-8aef-87af9e152cf0"
      },
      "execution_count": null,
      "outputs": [
        {
          "output_type": "execute_result",
          "data": {
            "text/plain": [
              "(2, 3)"
            ]
          },
          "metadata": {},
          "execution_count": 4
        }
      ]
    },
    {
      "cell_type": "markdown",
      "source": [
        "# Crear un array utilizando una funcion basada en rangos.\n",
        "# (Minimo, maximo, numero de elementos del array)"
      ],
      "metadata": {
        "id": "lYfiLKt8oF0F"
      }
    },
    {
      "cell_type": "code",
      "source": [
        "import numpy as np\n",
        "print(np.linspace(0,6,10))"
      ],
      "metadata": {
        "colab": {
          "base_uri": "https://localhost:8080/"
        },
        "id": "mUsCUu4toVFj",
        "outputId": "93e523ac-4831-4df7-e196-a8504eef5367"
      },
      "execution_count": null,
      "outputs": [
        {
          "output_type": "stream",
          "name": "stdout",
          "text": [
            "[0.         0.66666667 1.33333333 2.         2.66666667 3.33333333\n",
            " 4.         4.66666667 5.33333333 6.        ]\n"
          ]
        }
      ]
    },
    {
      "cell_type": "markdown",
      "source": [
        "# Inicializar el array con valores aleatorios.\n",
        "\n"
      ],
      "metadata": {
        "id": "ovpm-NRDowIe"
      }
    },
    {
      "cell_type": "code",
      "source": [
        "np.random.rand(3,3,4)"
      ],
      "metadata": {
        "colab": {
          "base_uri": "https://localhost:8080/"
        },
        "id": "sznZOhvWo78W",
        "outputId": "9fe00759-1aa4-4d17-85b9-6826ee57eb22"
      },
      "execution_count": null,
      "outputs": [
        {
          "output_type": "execute_result",
          "data": {
            "text/plain": [
              "array([[[0.6728425 , 0.00456144, 0.4969779 , 0.57308369],\n",
              "        [0.08321983, 0.46761713, 0.22666873, 0.91473837],\n",
              "        [0.73539729, 0.63333994, 0.68688163, 0.89054691]],\n",
              "\n",
              "       [[0.08016527, 0.93205051, 0.64303973, 0.81975662],\n",
              "        [0.53415651, 0.42868576, 0.40789669, 0.7517003 ],\n",
              "        [0.88782894, 0.28706404, 0.76456201, 0.19429479]],\n",
              "\n",
              "       [[0.82399968, 0.6252132 , 0.13184315, 0.00521073],\n",
              "        [0.91047622, 0.17596055, 0.15159457, 0.22244978],\n",
              "        [0.68246469, 0.14616685, 0.70338111, 0.49607146]]])"
            ]
          },
          "metadata": {},
          "execution_count": 9
        }
      ]
    },
    {
      "cell_type": "markdown",
      "source": [
        "# Iniciar array con valores aleatorios conforme a una distribucion normal."
      ],
      "metadata": {
        "id": "tiEVXF9lpI0T"
      }
    },
    {
      "cell_type": "code",
      "source": [
        "np.random.randn(2,4)"
      ],
      "metadata": {
        "colab": {
          "base_uri": "https://localhost:8080/"
        },
        "id": "azRA8t1opRuL",
        "outputId": "b654e5a5-93a5-47c3-c5a4-ba39f7be974c"
      },
      "execution_count": null,
      "outputs": [
        {
          "output_type": "execute_result",
          "data": {
            "text/plain": [
              "array([[-0.92370318,  0.84603049,  1.52532207,  1.0233474 ],\n",
              "       [-0.29510175,  0.17630452,  2.46468429, -0.58195516]])"
            ]
          },
          "metadata": {},
          "execution_count": 10
        }
      ]
    },
    {
      "cell_type": "code",
      "source": [
        "%matplotlib inline\n",
        "import matplotlib.pyplot as plt\n",
        "import numpy as np\n",
        "\n",
        "c = np.random.randn(1000)\n",
        "plt.hist(c,bin 200)\n",
        "plt.show()"
      ],
      "metadata": {
        "id": "pqwl-e9upjAy"
      },
      "execution_count": null,
      "outputs": []
    },
    {
      "cell_type": "markdown",
      "source": [
        "# Inicializar un array utilizando una funcion personalizada\n",
        "\n",
        "\n"
      ],
      "metadata": {
        "id": "B4Q4N2NeqYSD"
      }
    },
    {
      "cell_type": "code",
      "source": [
        "def func(x,y):\n",
        "  return x+2*y\n",
        "  np.fromfunction(func ,(3,5))"
      ],
      "metadata": {
        "id": "tUnGDs3eqtvk"
      },
      "execution_count": null,
      "outputs": []
    },
    {
      "cell_type": "markdown",
      "source": [
        "**## Acceso a los elementos de un array**\n",
        "**## Array Unidimencional**\n"
      ],
      "metadata": {
        "id": "jv89DKQXr1T9"
      }
    },
    {
      "cell_type": "markdown",
      "source": [
        "# Acceder a los elementos de un array"
      ],
      "metadata": {
        "id": "vQ9L84umrLmW"
      }
    },
    {
      "cell_type": "code",
      "source": [
        "array_uni = np.array([1,3,5,7,9,11])\n",
        "print(\"Shape:\", array_uni.shape)\n",
        "print(\"Array_uni \",array uni)"
      ],
      "metadata": {
        "id": "5aTP18R7rRT2"
      },
      "execution_count": null,
      "outputs": []
    },
    {
      "cell_type": "markdown",
      "source": [
        "# Accediendo al quinto elemento del array.\n"
      ],
      "metadata": {
        "id": "ODBtbo5DsL3V"
      }
    },
    {
      "cell_type": "code",
      "source": [
        "array_uni[9]"
      ],
      "metadata": {
        "id": "jGwcqiOFsRmX"
      },
      "execution_count": null,
      "outputs": []
    },
    {
      "cell_type": "markdown",
      "source": [
        "# Acceder al tercer y cuarto elemento del array"
      ],
      "metadata": {
        "id": "_K-WvhoXsXhm"
      }
    },
    {
      "cell_type": "code",
      "source": [
        "array_uni[2:4]"
      ],
      "metadata": {
        "id": "DgOTT63vsjIc"
      },
      "execution_count": null,
      "outputs": []
    },
    {
      "cell_type": "markdown",
      "source": [
        "### Array multidimencional"
      ],
      "metadata": {
        "id": "t7CIl6VwsuGV"
      }
    },
    {
      "cell_type": "markdown",
      "source": [
        "#Crear un array multidimencional."
      ],
      "metadata": {
        "id": "FPhfi-g2sy-n"
      }
    },
    {
      "cell_type": "code",
      "source": [
        "array_multi = np.array([[1,2,3,4], [5,6,7,8]])\n",
        "print(\"Shape\", array_multi.shape)\n",
        "print(\"Array_multi:\\n\", array_multi)"
      ],
      "metadata": {
        "id": "S6z74j5Cs50v"
      },
      "execution_count": null,
      "outputs": []
    },
    {
      "cell_type": "markdown",
      "source": [
        "# Acceder al cuarto elemento del array"
      ],
      "metadata": {
        "id": "i1KQDMr9tcN-"
      }
    },
    {
      "cell_type": "code",
      "source": [
        "array_multi[0,3]"
      ],
      "metadata": {
        "id": "4svU7xGjtmHU"
      },
      "execution_count": null,
      "outputs": []
    },
    {
      "cell_type": "markdown",
      "source": [
        "# Acceder a la segunda fila del array"
      ],
      "metadata": {
        "id": "AvAMlA2Otu53"
      }
    },
    {
      "cell_type": "code",
      "source": [
        "array_multi[1,:]"
      ],
      "metadata": {
        "id": "ZzxHhCJwttpa"
      },
      "execution_count": null,
      "outputs": []
    },
    {
      "cell_type": "markdown",
      "source": [
        "# Acceder al primer elemento de las dos primeras filas del array"
      ],
      "metadata": {
        "id": "DvnvNT_OuE7j"
      }
    },
    {
      "cell_type": "code",
      "source": [
        "array_multi[0:2,2]"
      ],
      "metadata": {
        "id": "EoL74fXhuLif"
      },
      "execution_count": null,
      "outputs": []
    },
    {
      "cell_type": "markdown",
      "source": [
        "# Modificacion de un array"
      ],
      "metadata": {
        "id": "N4icFs8MuWWO"
      }
    },
    {
      "cell_type": "markdown",
      "source": [
        "# Crear un arreglo unidimencional e inicializarlo con un rango de elementos 0-27"
      ],
      "metadata": {
        "id": "k7dI1lxkukJL"
      }
    },
    {
      "cell_type": "code",
      "source": [
        "array1 = np.arange(28)\n",
        "print(\"Shape\", array1.shape)\n",
        "print(\"Array:\\n\", array1)"
      ],
      "metadata": {
        "id": "CFG8v_tbuuky"
      },
      "execution_count": null,
      "outputs": []
    },
    {
      "cell_type": "markdown",
      "source": [
        "#Cambiar las dimenciones del array y sus longitudes.\n",
        "array1.shape = (7,4)"
      ],
      "metadata": {
        "id": "pmR5rNy8vGTS"
      }
    },
    {
      "cell_type": "code",
      "source": [
        "\n",
        "array1.shape = (7,4)\n",
        "print(\"Shape\", array1.shape)\n",
        "print(\"Array:\\n\", array1)"
      ],
      "metadata": {
        "id": "jT8yENDMvW3A"
      },
      "execution_count": null,
      "outputs": []
    },
    {
      "cell_type": "markdown",
      "source": [
        "# El ejemplo anterior debuelve un array que apunta a los mismos datos\n",
        "# Nota: modificasiones en el array, modificaran el otro array"
      ],
      "metadata": {
        "id": "ym2yGAKfvkDL"
      }
    },
    {
      "cell_type": "code",
      "source": [
        "array2 = array1.reshape(4,7)\n",
        "print(\"Shape\", array1.shape)\n",
        "print(\"Array:\\n\", array1)\n"
      ],
      "metadata": {
        "id": "JCo2RRyfv9uO"
      },
      "execution_count": null,
      "outputs": []
    },
    {
      "cell_type": "markdown",
      "source": [
        "#Modificacion  del nuevo array devuelto\n"
      ],
      "metadata": {
        "id": "cxaYdEMJwZHU"
      }
    },
    {
      "cell_type": "code",
      "source": [
        "array2[1,3]=30\n",
        "print(\"Array2:\\n\", array2)\n",
        "print(\"Array1:\\n\", array1)"
      ],
      "metadata": {
        "colab": {
          "base_uri": "https://localhost:8080/",
          "height": 141
        },
        "id": "seihDDT0wiVB",
        "outputId": "46f70b64-d278-4bc1-b524-e940438e6d28"
      },
      "execution_count": null,
      "outputs": [
        {
          "output_type": "error",
          "ename": "NameError",
          "evalue": "name 'array2' is not defined",
          "traceback": [
            "\u001b[0;31m---------------------------------------------------------------------------\u001b[0m",
            "\u001b[0;31mNameError\u001b[0m                                 Traceback (most recent call last)",
            "\u001b[0;32m<ipython-input-14-824af34c667f>\u001b[0m in \u001b[0;36m<cell line: 1>\u001b[0;34m()\u001b[0m\n\u001b[0;32m----> 1\u001b[0;31m \u001b[0marray2\u001b[0m\u001b[0;34m[\u001b[0m\u001b[0;36m1\u001b[0m\u001b[0;34m,\u001b[0m\u001b[0;36m3\u001b[0m\u001b[0;34m]\u001b[0m\u001b[0;34m=\u001b[0m\u001b[0;36m30\u001b[0m\u001b[0;34m\u001b[0m\u001b[0;34m\u001b[0m\u001b[0m\n\u001b[0m",
            "\u001b[0;31mNameError\u001b[0m: name 'array2' is not defined"
          ]
        }
      ]
    },
    {
      "cell_type": "markdown",
      "source": [
        "# Devolver el array a su estado original"
      ],
      "metadata": {
        "id": "b5JGMdF_xb0R"
      }
    },
    {
      "cell_type": "code",
      "source": [
        "\n",
        "print (\"Array1\",array.ravel())"
      ],
      "metadata": {
        "id": "ZBswkC5FxpOu"
      },
      "execution_count": null,
      "outputs": []
    },
    {
      "cell_type": "markdown",
      "source": [
        "## Operaciones aritmeticas con arrays"
      ],
      "metadata": {
        "id": "DSqfcJRXx-PS"
      }
    },
    {
      "cell_type": "code",
      "source": [
        "array1 = np.arange(2,18,2)\n",
        "array2 = np.arange(8)\n",
        "print (\"Array1\",array1)\n",
        "print (\"Array2\",array2)"
      ],
      "metadata": {
        "id": "BKZb0JJ7yE5u"
      },
      "execution_count": null,
      "outputs": []
    },
    {
      "cell_type": "markdown",
      "source": [
        "# suma"
      ],
      "metadata": {
        "id": "f0AmvmOsyhuh"
      }
    },
    {
      "cell_type": "code",
      "source": [
        "print(array1 + array2)"
      ],
      "metadata": {
        "id": "P5DIWrS-yjrT"
      },
      "execution_count": null,
      "outputs": []
    },
    {
      "cell_type": "markdown",
      "source": [
        "# Resta"
      ],
      "metadata": {
        "id": "flNaNeNmysgP"
      }
    },
    {
      "cell_type": "code",
      "source": [
        "print(array1 - array2)"
      ],
      "metadata": {
        "id": "ph49uYLPyu19"
      },
      "execution_count": null,
      "outputs": []
    },
    {
      "cell_type": "markdown",
      "source": [
        "# Multiplicacion\n",
        "#Nota:No es una multiplicacion de matrices"
      ],
      "metadata": {
        "id": "UsocA8NDy0N4"
      }
    },
    {
      "cell_type": "code",
      "source": [
        "print(array1 * array2)"
      ],
      "metadata": {
        "id": "j1a0ca0Yy8lO"
      },
      "execution_count": null,
      "outputs": []
    },
    {
      "cell_type": "markdown",
      "source": [
        "##Broad casting\n",
        "si se aplican operaciones"
      ],
      "metadata": {
        "id": "sORG_6Agz3W7"
      }
    }
  ]
}